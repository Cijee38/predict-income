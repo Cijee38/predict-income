{
 "cells": [
  {
   "cell_type": "markdown",
   "metadata": {},
   "source": [
    "# Predict income"
   ]
  },
  {
   "cell_type": "code",
   "execution_count": 1,
   "metadata": {},
   "outputs": [],
   "source": [
    "import pandas as pd\n",
    "import matplotlib.pyplot as plt\n",
    "import numpy as np\n",
    "from sklearn.decomposition import PCA\n",
    "from sklearn.ensemble import RandomForestClassifier\n",
    "from imblearn.over_sampling import SMOTE\n",
    "import random\n",
    "pd.options.display.max_columns = 42"
   ]
  },
  {
   "cell_type": "markdown",
   "metadata": {},
   "source": [
    "# Useful functions"
   ]
  },
  {
   "cell_type": "code",
   "execution_count": 2,
   "metadata": {},
   "outputs": [],
   "source": [
    "def compute_corr_matrix_continuous(dataframe, list_of_columns):\n",
    "    \"\"\"\n",
    "    compute correlation matrix with specified columns\n",
    "    \"\"\"\n",
    "    compute_corr_matrix = pd.DataFrame()\n",
    "    for column in list_of_columns:\n",
    "        compute_corr_matrix[column] = dataframe[column]\n",
    "    return compute_corr_matrix.corr(method='pearson')\n",
    "\n",
    "\n",
    "def compute_corr_matrix_categorical(dataframe, list_categorical):\n",
    "    df_dummies = pd.get_dummies(dataframe[list_categorical])\n",
    "    df_new = pd.concat([dataframe[\"income\"], df_dummies], axis=1)\n",
    "    x = df_new.values\n",
    "    answer_df = pd.DataFrame(columns=list(df_new))\n",
    "    answer_df.loc[0] = np.corrcoef(x.T)[0]\n",
    "    return answer_df\n",
    "\n",
    "def analyse_continuous_column(dataframe, column_name):\n",
    "    dataframe[column_name].value_counts().sort_index().plot(kind='line')\n",
    "    return compute_corr_matrix_continuous(dataframe, [column_name, 'income'])\n",
    "\n",
    "def analyse_categorical_column(dataframe, column_name):\n",
    "    dataframe[column_name].value_counts().plot(kind='bar')\n",
    "    return compute_corr_matrix_categorical(dataframe, [column_name])\n",
    "\n",
    "def generate_accuracy(prediction, real):\n",
    "    \"\"\"\n",
    "    compute accuracy comparing your prediction and the real value\n",
    "    \"\"\"\n",
    "    if prediction.size != real.size:\n",
    "        raise ValueError('prediction and real have not the same size')\n",
    "    count = 0\n",
    "    size = prediction.size\n",
    "    for i in range(size):\n",
    "        if prediction[i] == real[i]:\n",
    "            count += 1\n",
    "    return count/size\n",
    "\n",
    "def evaluate_bad_performance(prediction, real):\n",
    "    \"\"\"\n",
    "    This function returns a list of value on which we have generate a bad prediction. This will allows us to generate \n",
    "    bad prediction repartition\n",
    "    \"\"\"\n",
    "    if prediction.size != real.size:\n",
    "        raise ValueError('prediction and real have not the same size')\n",
    "    bad_perf = []\n",
    "    size = prediction.size\n",
    "    for i in range(size):\n",
    "        if prediction[i] != real[i]:\n",
    "            bad_perf.append(real[i])\n",
    "    return bad_perf\n",
    "\n",
    "def drop_value_in_dataset(dataframe, probability_to_keep, value):\n",
    "    \"\"\"\n",
    "    The aim of this function is to drop some rows in the dataset in order to have a more balanced dataset.\n",
    "    \"\"\"\n",
    "    size = dataframe.shape[0]\n",
    "    indices_to_delete = []\n",
    "    income = dataframe[\"income\"]\n",
    "    for i in range(size):\n",
    "        if income[i]==value:\n",
    "            random_value = random.random()\n",
    "            if random_value > probability_to_keep:\n",
    "                indices_to_delete.append(i)\n",
    "    return dataframe.drop(dataframe.index[indices_to_delete])\n",
    "\n",
    "def add_missing_dummy_columns(dataframe, columns):\n",
    "    missing_cols = set(columns) - set(dataframe.columns)\n",
    "    for c in missing_cols:\n",
    "        dataframe[c] = 0\n",
    "\n",
    "def replace_value_in_dataset(dataframe, column_name, value_to_replace, new_value):\n",
    "    \"\"\"\n",
    "    this function allows you to replace a specific value in the dataset.\n",
    "    We're going to use it for the missing values.\n",
    "    \"\"\"\n",
    "    dataframe[column_name].replace(to_replace=value_to_replace, value=new_value, inplace=True)\n",
    "               "
   ]
  },
  {
   "cell_type": "markdown",
   "metadata": {},
   "source": [
    "# Step 1 : Importing Dataset"
   ]
  },
  {
   "cell_type": "code",
   "execution_count": 3,
   "metadata": {},
   "outputs": [],
   "source": [
    "#List of column_names\n",
    "#It seems like the columns of the dataset doesn't excatly match with the txt files so it's easier to hardcode column_names\n",
    "column_names = [ 'age',\n",
    "                'class of worker',\n",
    "                'industry code',\n",
    "                'occupation code',\n",
    "                  'education',\n",
    "                  'wage per hour',\n",
    "                  'enrolled in edu inst last wk',\n",
    "'marital status',\n",
    " 'major industry code',\n",
    " 'major occupation code',\n",
    " 'race',\n",
    " 'hispanic Origin',\n",
    " 'sex',\n",
    " 'member of a labor union',\n",
    " 'reason for unemployment',\n",
    " 'full or part time employment stat',\n",
    " 'capital gains',\n",
    " 'capital losses',\n",
    " 'divdends from stocks',\n",
    " 'tax filer status',\n",
    " 'region of previous residence',\n",
    " 'state of previous residence',\n",
    " 'detailed household and family stat',\n",
    " 'detailed household summary in household',\n",
    " 'instance weight',\n",
    " 'migration code-change in msa',\n",
    " 'migration code-change in reg',\n",
    " 'migration code-move within reg',\n",
    " 'live in this house 1 year ago',\n",
    " 'migration prev res in sunbelt',\n",
    " 'num persons worked for employer',\n",
    " 'family members under 18',\n",
    " 'country of birth father',\n",
    " 'country of birth mother',\n",
    " 'country of birth self',\n",
    " 'citizenship',\n",
    " 'own business or self employed',\n",
    " 'fill inc questionnaire for veteran\\'s admin',\n",
    " 'veterans benefits',\n",
    " 'weeks worked in year',\n",
    " 'year',\n",
    " 'income']\n",
    "#Import dataset\n",
    "train_dataset = pd.read_csv(\"census_income_learn.csv\", header = None, names=column_names)\n",
    "test_dataset = pd.read_csv(\"census_income_test.csv\", header = None, names=column_names)"
   ]
  },
  {
   "cell_type": "markdown",
   "metadata": {},
   "source": [
    "# Step 2 : Explore, clean and transform Dataset"
   ]
  },
  {
   "cell_type": "markdown",
   "metadata": {},
   "source": [
    "Here we will explore each column of the dataset and decide whether we keep a column or not."
   ]
  },
  {
   "cell_type": "code",
   "execution_count": 4,
   "metadata": {},
   "outputs": [],
   "source": [
    "#modif income\n",
    "new_income_column = train_dataset[\"income\"].copy()\n",
    "new_income_column = new_income_column.replace(to_replace=' - 50000.', value=0)\n",
    "new_income_column = new_income_column.replace(to_replace=' 50000+.', value=1)\n",
    "train_dataset[\"income\"] = new_income_column"
   ]
  },
  {
   "cell_type": "code",
   "execution_count": 5,
   "metadata": {},
   "outputs": [],
   "source": [
    "#modif income\n",
    "new_income_column = test_dataset[\"income\"].copy()\n",
    "new_income_column = new_income_column.replace(to_replace=' - 50000.', value=0)\n",
    "new_income_column = new_income_column.replace(to_replace=' 50000+.', value=1)\n",
    "test_dataset[\"income\"] = new_income_column"
   ]
  },
  {
   "cell_type": "code",
   "execution_count": 6,
   "metadata": {},
   "outputs": [
    {
     "data": {
      "text/plain": [
       "<matplotlib.axes._subplots.AxesSubplot at 0x7f625ef239e8>"
      ]
     },
     "execution_count": 6,
     "metadata": {},
     "output_type": "execute_result"
    },
    {
     "data": {
      "image/png": "[encoded data removed]",
      "text/plain": [
       "<matplotlib.figure.Figure at 0x7f6229df85f8>"
      ]
     },
     "metadata": {},
     "output_type": "display_data"
    }
   ],
   "source": [
    "train_dataset[\"income\"].value_counts().plot(kind='bar')"
   ]
  },
  {
   "cell_type": "markdown",
   "metadata": {},
   "source": [
    "We can multiply by the instance weight for a more relevant repartition"
   ]
  },
  {
   "cell_type": "code",
   "execution_count": 7,
   "metadata": {},
   "outputs": [
    {
     "data": {
      "text/plain": [
       "<matplotlib.axes._subplots.AxesSubplot at 0x7f6228755eb8>"
      ]
     },
     "execution_count": 7,
     "metadata": {},
     "output_type": "execute_result"
    },
    {
     "data": {
      "image/png": "[encoded data removed]",
      "text/plain": [
       "<matplotlib.figure.Figure at 0x7f62287d6710>"
      ]
     },
     "metadata": {},
     "output_type": "display_data"
    }
   ],
   "source": [
    "instance_weight_0 = train_dataset[train_dataset[\"income\"]==0][\"instance weight\"]\n",
    "instance_weight_1 = train_dataset[train_dataset[\"income\"]==1][\"instance weight\"]\n",
    "income_distribution = pd.Series([instance_weight_0.sum(), instance_weight_1.sum()])\n",
    "income_distribution.plot(kind='bar')"
   ]
  },
  {
   "cell_type": "markdown",
   "metadata": {},
   "source": [
    "We observe that people who earn less than 50K$ are way more present in the dataset. We're going to realize under sampling to obtain equivalent repartition of 0 and 1."
   ]
  },
  {
   "cell_type": "markdown",
   "metadata": {},
   "source": [
    "## Drop value - Under Sampling"
   ]
  },
  {
   "cell_type": "code",
   "execution_count": 8,
   "metadata": {},
   "outputs": [],
   "source": [
    "#Drop value in the dataset.\n",
    "train_dataset = drop_value_in_dataset(train_dataset, 0.08, 0)"
   ]
  },
  {
   "cell_type": "code",
   "execution_count": 9,
   "metadata": {},
   "outputs": [
    {
     "data": {
      "text/plain": [
       "<matplotlib.axes._subplots.AxesSubplot at 0x7f6229d7b1d0>"
      ]
     },
     "execution_count": 9,
     "metadata": {},
     "output_type": "execute_result"
    },
    {
     "data": {
      "image/png": "[encoded data removed]",
      "text/plain": [
       "<matplotlib.figure.Figure at 0x7f6229db4240>"
      ]
     },
     "metadata": {},
     "output_type": "display_data"
    }
   ],
   "source": [
    "train_dataset[\"income\"].value_counts().plot(kind='bar')"
   ]
  },
  {
   "cell_type": "markdown",
   "metadata": {},
   "source": [
    "## Missing value"
   ]
  },
  {
   "cell_type": "code",
   "execution_count": 10,
   "metadata": {},
   "outputs": [
    {
     "data": {
      "text/plain": [
       "age                                               0\n",
       "class of worker                                   0\n",
       "industry code                                     0\n",
       "occupation code                                   0\n",
       "education                                         0\n",
       "wage per hour                                     0\n",
       "enrolled in edu inst last wk                      0\n",
       "marital status                                    0\n",
       "major industry code                               0\n",
       "major occupation code                             0\n",
       "race                                              0\n",
       "hispanic Origin                                   0\n",
       "sex                                               0\n",
       "member of a labor union                           0\n",
       "reason for unemployment                           0\n",
       "full or part time employment stat                 0\n",
       "capital gains                                     0\n",
       "capital losses                                    0\n",
       "divdends from stocks                              0\n",
       "tax filer status                                  0\n",
       "region of previous residence                      0\n",
       "state of previous residence                      95\n",
       "detailed household and family stat                0\n",
       "detailed household summary in household           0\n",
       "instance weight                                   0\n",
       "migration code-change in msa                  13886\n",
       "migration code-change in reg                  13886\n",
       "migration code-move within reg                13886\n",
       "live in this house 1 year ago                     0\n",
       "migration prev res in sunbelt                 13886\n",
       "num persons worked for employer                   0\n",
       "family members under 18                           0\n",
       "country of birth father                        1064\n",
       "country of birth mother                         940\n",
       "country of birth self                           544\n",
       "citizenship                                       0\n",
       "own business or self employed                     0\n",
       "fill inc questionnaire for veteran's admin        0\n",
       "veterans benefits                                 0\n",
       "weeks worked in year                              0\n",
       "year                                              0\n",
       "income                                            0\n",
       "dtype: int64"
      ]
     },
     "execution_count": 10,
     "metadata": {},
     "output_type": "execute_result"
    }
   ],
   "source": [
    "train_dataset.isin([' ?']).sum()"
   ]
  },
  {
   "cell_type": "markdown",
   "metadata": {},
   "source": [
    "Here, we can observe the number of missing values for each column. From that, we can guess that migration code-change in msa, migration code-change in reg, migration code-move within reg and migration prev res in sunbelt have the same missing values. "
   ]
  },
  {
   "cell_type": "markdown",
   "metadata": {},
   "source": [
    "For these four columns, the best to do is probably to replace value by Not in universe values. However, this will give rise to a huge number of Not in universe value and so we will probably drop these columns as they don't bring lots of information"
   ]
  },
  {
   "cell_type": "code",
   "execution_count": 11,
   "metadata": {},
   "outputs": [],
   "source": [
    "replace_value_in_dataset(train_dataset, 'migration code-change in msa', ' ?', ' Not in universe')\n",
    "replace_value_in_dataset(train_dataset, 'migration code-change in reg', ' ?', ' Not in universe')\n",
    "replace_value_in_dataset(train_dataset, 'migration code-move within reg', ' ?', ' Not in universe')\n",
    "replace_value_in_dataset(train_dataset, 'migration prev res in sunbelt', ' ?', ' Not in universe')"
   ]
  },
  {
   "cell_type": "markdown",
   "metadata": {},
   "source": [
    "Only 2 regions contains ? states. We're going to replace ? by the state that is the most represented in the region. This will work because there is no ' Not in universe' region when there is a state ?, when the region is ' Not in universe\" the state is also ' Not in universe'"
   ]
  },
  {
   "cell_type": "code",
   "execution_count": 12,
   "metadata": {},
   "outputs": [
    {
     "name": "stderr",
     "output_type": "stream",
     "text": [
      "/home/clement/anaconda3/lib/python3.6/site-packages/pandas/core/indexing.py:194: SettingWithCopyWarning: \n",
      "A value is trying to be set on a copy of a slice from a DataFrame\n",
      "\n",
      "See the caveats in the documentation: http://pandas.pydata.org/pandas-docs/stable/indexing.html#indexing-view-versus-copy\n",
      "  self._setitem_with_indexer(indexer, value)\n"
     ]
    }
   ],
   "source": [
    "northeast_most_represented = train_dataset[train_dataset['region of previous residence']==' Northeast']['state of previous residence'].value_counts().index[0]\n",
    "south_most_represented = train_dataset[train_dataset['region of previous residence']==' South']['state of previous residence'].value_counts().index[0]\n",
    "missing_state = train_dataset[train_dataset['state of previous residence'] == ' ?']['state of previous residence']\n",
    "region = train_dataset['region of previous residence']\n",
    "for indice in missing_state.keys():\n",
    "    if region.loc[indice] == ' Northeast':\n",
    "        train_dataset['state of previous residence'].loc[indice] = northeast_most_represented\n",
    "    elif region.loc[indice] == ' South':\n",
    "        train_dataset['state of previous residence'].loc[indice] = south_most_represented\n"
   ]
  },
  {
   "cell_type": "markdown",
   "metadata": {},
   "source": [
    "It will be really hard to guess country of birth father and mother. Given the solution, we can set the default value to United States."
   ]
  },
  {
   "cell_type": "code",
   "execution_count": 13,
   "metadata": {},
   "outputs": [],
   "source": [
    "replace_value_in_dataset(train_dataset, 'country of birth mother', ' ?', ' United-States')\n",
    "replace_value_in_dataset(train_dataset, 'country of birth father', ' ?', ' United-States')"
   ]
  },
  {
   "cell_type": "markdown",
   "metadata": {},
   "source": [
    "Finally, we can try to infer country of birth self depending on father and mother value. This can give rise to some error."
   ]
  },
  {
   "cell_type": "code",
   "execution_count": 14,
   "metadata": {},
   "outputs": [
    {
     "name": "stderr",
     "output_type": "stream",
     "text": [
      "/home/clement/anaconda3/lib/python3.6/site-packages/pandas/core/indexing.py:194: SettingWithCopyWarning: \n",
      "A value is trying to be set on a copy of a slice from a DataFrame\n",
      "\n",
      "See the caveats in the documentation: http://pandas.pydata.org/pandas-docs/stable/indexing.html#indexing-view-versus-copy\n",
      "  self._setitem_with_indexer(indexer, value)\n"
     ]
    }
   ],
   "source": [
    "missing_country = train_dataset[train_dataset['country of birth self'] == ' ?']['country of birth self']\n",
    "country_father = train_dataset['country of birth father']\n",
    "country_mother = train_dataset['country of birth mother']\n",
    "for indice in missing_country.keys():\n",
    "    #if both parents have same country\n",
    "    if country_father.loc[indice] == country_mother.loc[indice]:\n",
    "        train_dataset['country of birth self'].loc[indice] = country_father.loc[indice]\n",
    "    #If parents are from 2 different country, we set the default value to United states\n",
    "    else:\n",
    "        train_dataset['country of birth self'].loc[indice] = ' United-States'\n",
    "    \n",
    "    "
   ]
  },
  {
   "cell_type": "markdown",
   "metadata": {},
   "source": [
    "## Feature Engineering"
   ]
  },
  {
   "cell_type": "markdown",
   "metadata": {},
   "source": [
    "We now try to decide whether a column is relevant or not. This step of feature engineering is important to obtain a good model. Here, we're going to demonstrate the process only on some of the feature. We can see the final model in the modelisation part. It is important not to keep too many features to avoid overfitting."
   ]
  },
  {
   "cell_type": "markdown",
   "metadata": {},
   "source": [
    "## Age"
   ]
  },
  {
   "cell_type": "code",
   "execution_count": 15,
   "metadata": {},
   "outputs": [
    {
     "data": {
      "text/html": [
       "<div>\n",
       "<style scoped>\n",
       "    .dataframe tbody tr th:only-of-type {\n",
       "        vertical-align: middle;\n",
       "    }\n",
       "\n",
       "    .dataframe tbody tr th {\n",
       "        vertical-align: top;\n",
       "    }\n",
       "\n",
       "    .dataframe thead th {\n",
       "        text-align: right;\n",
       "    }\n",
       "</style>\n",
       "<table border=\"1\" class=\"dataframe\">\n",
       "  <thead>\n",
       "    <tr style=\"text-align: right;\">\n",
       "      <th></th>\n",
       "      <th>age</th>\n",
       "      <th>income</th>\n",
       "    </tr>\n",
       "  </thead>\n",
       "  <tbody>\n",
       "    <tr>\n",
       "      <th>age</th>\n",
       "      <td>1.000000</td>\n",
       "      <td>0.316692</td>\n",
       "    </tr>\n",
       "    <tr>\n",
       "      <th>income</th>\n",
       "      <td>0.316692</td>\n",
       "      <td>1.000000</td>\n",
       "    </tr>\n",
       "  </tbody>\n",
       "</table>\n",
       "</div>"
      ],
      "text/plain": [
       "             age    income\n",
       "age     1.000000  0.316692\n",
       "income  0.316692  1.000000"
      ]
     },
     "execution_count": 15,
     "metadata": {},
     "output_type": "execute_result"
    },
    {
     "data": {
      "image/png": "[encoded data removed]",
      "text/plain": [
       "<matplotlib.figure.Figure at 0x7f62286ea6d8>"
      ]
     },
     "metadata": {},
     "output_type": "display_data"
    }
   ],
   "source": [
    "analyse_continuous_column(train_dataset, 'age')"
   ]
  },
  {
   "cell_type": "code",
   "execution_count": 16,
   "metadata": {},
   "outputs": [
    {
     "data": {
      "text/plain": [
       "count    27264.000000\n",
       "mean        39.513498\n",
       "std         19.449666\n",
       "min          0.000000\n",
       "25%         28.000000\n",
       "50%         40.000000\n",
       "75%         52.000000\n",
       "max         90.000000\n",
       "Name: age, dtype: float64"
      ]
     },
     "execution_count": 16,
     "metadata": {},
     "output_type": "execute_result"
    }
   ],
   "source": [
    "train_dataset[\"age\"].describe()"
   ]
  },
  {
   "cell_type": "markdown",
   "metadata": {},
   "source": [
    "It seems like the age have an impact on the output. So we're going to keep this column. Datas of this column seems to be coherent."
   ]
  },
  {
   "cell_type": "markdown",
   "metadata": {},
   "source": [
    "## Class of worker"
   ]
  },
  {
   "cell_type": "code",
   "execution_count": 17,
   "metadata": {},
   "outputs": [
    {
     "data": {
      "text/html": [
       "<div>\n",
       "<style scoped>\n",
       "    .dataframe tbody tr th:only-of-type {\n",
       "        vertical-align: middle;\n",
       "    }\n",
       "\n",
       "    .dataframe tbody tr th {\n",
       "        vertical-align: top;\n",
       "    }\n",
       "\n",
       "    .dataframe thead th {\n",
       "        text-align: right;\n",
       "    }\n",
       "</style>\n",
       "<table border=\"1\" class=\"dataframe\">\n",
       "  <thead>\n",
       "    <tr style=\"text-align: right;\">\n",
       "      <th></th>\n",
       "      <th>income</th>\n",
       "      <th>class of worker_ Federal government</th>\n",
       "      <th>class of worker_ Local government</th>\n",
       "      <th>class of worker_ Never worked</th>\n",
       "      <th>class of worker_ Not in universe</th>\n",
       "      <th>class of worker_ Private</th>\n",
       "      <th>class of worker_ Self-employed-incorporated</th>\n",
       "      <th>class of worker_ Self-employed-not incorporated</th>\n",
       "      <th>class of worker_ State government</th>\n",
       "      <th>class of worker_ Without pay</th>\n",
       "    </tr>\n",
       "  </thead>\n",
       "  <tbody>\n",
       "    <tr>\n",
       "      <th>0</th>\n",
       "      <td>1.0</td>\n",
       "      <td>0.104885</td>\n",
       "      <td>0.067179</td>\n",
       "      <td>-0.028588</td>\n",
       "      <td>-0.489615</td>\n",
       "      <td>0.248718</td>\n",
       "      <td>0.184786</td>\n",
       "      <td>0.103039</td>\n",
       "      <td>0.060887</td>\n",
       "      <td>-0.019061</td>\n",
       "    </tr>\n",
       "  </tbody>\n",
       "</table>\n",
       "</div>"
      ],
      "text/plain": [
       "   income  class of worker_ Federal government  \\\n",
       "0     1.0                             0.104885   \n",
       "\n",
       "   class of worker_ Local government  class of worker_ Never worked  \\\n",
       "0                           0.067179                      -0.028588   \n",
       "\n",
       "   class of worker_ Not in universe  class of worker_ Private  \\\n",
       "0                         -0.489615                  0.248718   \n",
       "\n",
       "   class of worker_ Self-employed-incorporated  \\\n",
       "0                                     0.184786   \n",
       "\n",
       "   class of worker_ Self-employed-not incorporated  \\\n",
       "0                                         0.103039   \n",
       "\n",
       "   class of worker_ State government  class of worker_ Without pay  \n",
       "0                           0.060887                     -0.019061  "
      ]
     },
     "execution_count": 17,
     "metadata": {},
     "output_type": "execute_result"
    },
    {
     "data": {
      "image/png": "[encoded data removed]",
      "text/plain": [
       "<matplotlib.figure.Figure at 0x7f6229dd3e10>"
      ]
     },
     "metadata": {},
     "output_type": "display_data"
    }
   ],
   "source": [
    "analyse_categorical_column(train_dataset, 'class of worker')"
   ]
  },
  {
   "cell_type": "markdown",
   "metadata": {},
   "source": [
    "There are numerous \"Not in universe\" elements but we can see that some of the attribute impact the final income"
   ]
  },
  {
   "cell_type": "markdown",
   "metadata": {},
   "source": [
    "## Industry code and occupation code"
   ]
  },
  {
   "cell_type": "code",
   "execution_count": 18,
   "metadata": {
    "scrolled": true
   },
   "outputs": [
    {
     "data": {
      "text/html": [
       "<div>\n",
       "<style scoped>\n",
       "    .dataframe tbody tr th:only-of-type {\n",
       "        vertical-align: middle;\n",
       "    }\n",
       "\n",
       "    .dataframe tbody tr th {\n",
       "        vertical-align: top;\n",
       "    }\n",
       "\n",
       "    .dataframe thead th {\n",
       "        text-align: right;\n",
       "    }\n",
       "</style>\n",
       "<table border=\"1\" class=\"dataframe\">\n",
       "  <thead>\n",
       "    <tr style=\"text-align: right;\">\n",
       "      <th></th>\n",
       "      <th>income</th>\n",
       "      <th>major occupation code_ Adm support including clerical</th>\n",
       "      <th>major occupation code_ Armed Forces</th>\n",
       "      <th>major occupation code_ Executive admin and managerial</th>\n",
       "      <th>major occupation code_ Farming forestry and fishing</th>\n",
       "      <th>major occupation code_ Handlers equip cleaners etc</th>\n",
       "      <th>major occupation code_ Machine operators assmblrs &amp; inspctrs</th>\n",
       "      <th>major occupation code_ Not in universe</th>\n",
       "      <th>major occupation code_ Other service</th>\n",
       "      <th>major occupation code_ Precision production craft &amp; repair</th>\n",
       "      <th>major occupation code_ Private household services</th>\n",
       "      <th>major occupation code_ Professional specialty</th>\n",
       "      <th>major occupation code_ Protective services</th>\n",
       "      <th>major occupation code_ Sales</th>\n",
       "      <th>major occupation code_ Technicians and related support</th>\n",
       "      <th>major occupation code_ Transportation and material moving</th>\n",
       "    </tr>\n",
       "  </thead>\n",
       "  <tbody>\n",
       "    <tr>\n",
       "      <th>0</th>\n",
       "      <td>1.0</td>\n",
       "      <td>-0.085501</td>\n",
       "      <td>0.011021</td>\n",
       "      <td>0.330397</td>\n",
       "      <td>-0.010352</td>\n",
       "      <td>-0.054311</td>\n",
       "      <td>-0.037689</td>\n",
       "      <td>-0.491298</td>\n",
       "      <td>-0.142751</td>\n",
       "      <td>0.05666</td>\n",
       "      <td>-0.041935</td>\n",
       "      <td>0.302243</td>\n",
       "      <td>0.056822</td>\n",
       "      <td>0.123466</td>\n",
       "      <td>0.053147</td>\n",
       "      <td>0.000303</td>\n",
       "    </tr>\n",
       "  </tbody>\n",
       "</table>\n",
       "</div>"
      ],
      "text/plain": [
       "   income  major occupation code_ Adm support including clerical  \\\n",
       "0     1.0                                          -0.085501       \n",
       "\n",
       "   major occupation code_ Armed Forces  \\\n",
       "0                             0.011021   \n",
       "\n",
       "   major occupation code_ Executive admin and managerial  \\\n",
       "0                                           0.330397       \n",
       "\n",
       "   major occupation code_ Farming forestry and fishing  \\\n",
       "0                                          -0.010352     \n",
       "\n",
       "   major occupation code_ Handlers equip cleaners etc   \\\n",
       "0                                          -0.054311     \n",
       "\n",
       "   major occupation code_ Machine operators assmblrs & inspctrs  \\\n",
       "0                                          -0.037689              \n",
       "\n",
       "   major occupation code_ Not in universe  \\\n",
       "0                               -0.491298   \n",
       "\n",
       "   major occupation code_ Other service  \\\n",
       "0                             -0.142751   \n",
       "\n",
       "   major occupation code_ Precision production craft & repair  \\\n",
       "0                                            0.05666            \n",
       "\n",
       "   major occupation code_ Private household services  \\\n",
       "0                                          -0.041935   \n",
       "\n",
       "   major occupation code_ Professional specialty  \\\n",
       "0                                       0.302243   \n",
       "\n",
       "   major occupation code_ Protective services  major occupation code_ Sales  \\\n",
       "0                                    0.056822                      0.123466   \n",
       "\n",
       "   major occupation code_ Technicians and related support  \\\n",
       "0                                           0.053147        \n",
       "\n",
       "   major occupation code_ Transportation and material moving  \n",
       "0                                           0.000303          "
      ]
     },
     "execution_count": 18,
     "metadata": {},
     "output_type": "execute_result"
    },
    {
     "data": {
      "image/png": "[encoded data removed]",
      "text/plain": [
       "<matplotlib.figure.Figure at 0x7f622862c6d8>"
      ]
     },
     "metadata": {},
     "output_type": "display_data"
    }
   ],
   "source": [
    "analyse_categorical_column(train_dataset, 'major occupation code')"
   ]
  },
  {
   "cell_type": "markdown",
   "metadata": {},
   "source": [
    "Here we can clearly see that occupation have a huge impact on the final income. For instance, professional speciality people are more likely to earn more than 50k$ a year."
   ]
  },
  {
   "cell_type": "code",
   "execution_count": 19,
   "metadata": {},
   "outputs": [
    {
     "data": {
      "text/html": [
       "<div>\n",
       "<style scoped>\n",
       "    .dataframe tbody tr th:only-of-type {\n",
       "        vertical-align: middle;\n",
       "    }\n",
       "\n",
       "    .dataframe tbody tr th {\n",
       "        vertical-align: top;\n",
       "    }\n",
       "\n",
       "    .dataframe thead th {\n",
       "        text-align: right;\n",
       "    }\n",
       "</style>\n",
       "<table border=\"1\" class=\"dataframe\">\n",
       "  <thead>\n",
       "    <tr style=\"text-align: right;\">\n",
       "      <th></th>\n",
       "      <th>income</th>\n",
       "      <th>major industry code_ Agriculture</th>\n",
       "      <th>major industry code_ Armed Forces</th>\n",
       "      <th>major industry code_ Business and repair services</th>\n",
       "      <th>major industry code_ Communications</th>\n",
       "      <th>major industry code_ Construction</th>\n",
       "      <th>major industry code_ Education</th>\n",
       "      <th>major industry code_ Entertainment</th>\n",
       "      <th>major industry code_ Finance insurance and real estate</th>\n",
       "      <th>major industry code_ Forestry and fisheries</th>\n",
       "      <th>major industry code_ Hospital services</th>\n",
       "      <th>major industry code_ Manufacturing-durable goods</th>\n",
       "      <th>major industry code_ Manufacturing-nondurable goods</th>\n",
       "      <th>major industry code_ Medical except hospital</th>\n",
       "      <th>major industry code_ Mining</th>\n",
       "      <th>major industry code_ Not in universe or children</th>\n",
       "      <th>major industry code_ Other professional services</th>\n",
       "      <th>major industry code_ Personal services except private HH</th>\n",
       "      <th>major industry code_ Private household services</th>\n",
       "      <th>major industry code_ Public administration</th>\n",
       "      <th>major industry code_ Retail trade</th>\n",
       "      <th>major industry code_ Social services</th>\n",
       "      <th>major industry code_ Transportation</th>\n",
       "      <th>major industry code_ Utilities and sanitary services</th>\n",
       "      <th>major industry code_ Wholesale trade</th>\n",
       "    </tr>\n",
       "  </thead>\n",
       "  <tbody>\n",
       "    <tr>\n",
       "      <th>0</th>\n",
       "      <td>1.0</td>\n",
       "      <td>-0.000017</td>\n",
       "      <td>0.011021</td>\n",
       "      <td>0.063563</td>\n",
       "      <td>0.079233</td>\n",
       "      <td>0.042223</td>\n",
       "      <td>0.075278</td>\n",
       "      <td>-0.000416</td>\n",
       "      <td>0.134643</td>\n",
       "      <td>0.019577</td>\n",
       "      <td>0.059448</td>\n",
       "      <td>0.150224</td>\n",
       "      <td>0.084873</td>\n",
       "      <td>0.07121</td>\n",
       "      <td>0.057874</td>\n",
       "      <td>-0.491298</td>\n",
       "      <td>0.149838</td>\n",
       "      <td>-0.035059</td>\n",
       "      <td>-0.044062</td>\n",
       "      <td>0.116198</td>\n",
       "      <td>-0.032864</td>\n",
       "      <td>-0.033179</td>\n",
       "      <td>0.051943</td>\n",
       "      <td>0.067038</td>\n",
       "      <td>0.081616</td>\n",
       "    </tr>\n",
       "  </tbody>\n",
       "</table>\n",
       "</div>"
      ],
      "text/plain": [
       "   income  major industry code_ Agriculture  \\\n",
       "0     1.0                         -0.000017   \n",
       "\n",
       "   major industry code_ Armed Forces  \\\n",
       "0                           0.011021   \n",
       "\n",
       "   major industry code_ Business and repair services  \\\n",
       "0                                           0.063563   \n",
       "\n",
       "   major industry code_ Communications  major industry code_ Construction  \\\n",
       "0                             0.079233                           0.042223   \n",
       "\n",
       "   major industry code_ Education  major industry code_ Entertainment  \\\n",
       "0                        0.075278                           -0.000416   \n",
       "\n",
       "   major industry code_ Finance insurance and real estate  \\\n",
       "0                                           0.134643        \n",
       "\n",
       "   major industry code_ Forestry and fisheries  \\\n",
       "0                                     0.019577   \n",
       "\n",
       "   major industry code_ Hospital services  \\\n",
       "0                                0.059448   \n",
       "\n",
       "   major industry code_ Manufacturing-durable goods  \\\n",
       "0                                          0.150224   \n",
       "\n",
       "   major industry code_ Manufacturing-nondurable goods  \\\n",
       "0                                           0.084873     \n",
       "\n",
       "   major industry code_ Medical except hospital  major industry code_ Mining  \\\n",
       "0                                       0.07121                     0.057874   \n",
       "\n",
       "   major industry code_ Not in universe or children  \\\n",
       "0                                         -0.491298   \n",
       "\n",
       "   major industry code_ Other professional services  \\\n",
       "0                                          0.149838   \n",
       "\n",
       "   major industry code_ Personal services except private HH  \\\n",
       "0                                          -0.035059          \n",
       "\n",
       "   major industry code_ Private household services  \\\n",
       "0                                        -0.044062   \n",
       "\n",
       "   major industry code_ Public administration  \\\n",
       "0                                    0.116198   \n",
       "\n",
       "   major industry code_ Retail trade  major industry code_ Social services  \\\n",
       "0                          -0.032864                             -0.033179   \n",
       "\n",
       "   major industry code_ Transportation  \\\n",
       "0                             0.051943   \n",
       "\n",
       "   major industry code_ Utilities and sanitary services  \\\n",
       "0                                           0.067038      \n",
       "\n",
       "   major industry code_ Wholesale trade  \n",
       "0                              0.081616  "
      ]
     },
     "execution_count": 19,
     "metadata": {},
     "output_type": "execute_result"
    },
    {
     "data": {
      "image/png": "[encoded data removed]",
      "text/plain": [
       "<matplotlib.figure.Figure at 0x7f62285ae630>"
      ]
     },
     "metadata": {},
     "output_type": "display_data"
    }
   ],
   "source": [
    "analyse_categorical_column(train_dataset, 'major industry code')"
   ]
  },
  {
   "cell_type": "markdown",
   "metadata": {},
   "source": [
    "Here the importance of industry code seems to be less important that the occupation code but some of the factor are important so we can decide to also keep this column."
   ]
  },
  {
   "cell_type": "markdown",
   "metadata": {},
   "source": [
    "## Education\n"
   ]
  },
  {
   "cell_type": "code",
   "execution_count": 20,
   "metadata": {},
   "outputs": [
    {
     "data": {
      "text/html": [
       "<div>\n",
       "<style scoped>\n",
       "    .dataframe tbody tr th:only-of-type {\n",
       "        vertical-align: middle;\n",
       "    }\n",
       "\n",
       "    .dataframe tbody tr th {\n",
       "        vertical-align: top;\n",
       "    }\n",
       "\n",
       "    .dataframe thead th {\n",
       "        text-align: right;\n",
       "    }\n",
       "</style>\n",
       "<table border=\"1\" class=\"dataframe\">\n",
       "  <thead>\n",
       "    <tr style=\"text-align: right;\">\n",
       "      <th></th>\n",
       "      <th>income</th>\n",
       "      <th>education_ 10th grade</th>\n",
       "      <th>education_ 11th grade</th>\n",
       "      <th>education_ 12th grade no diploma</th>\n",
       "      <th>education_ 1st 2nd 3rd or 4th grade</th>\n",
       "      <th>education_ 5th or 6th grade</th>\n",
       "      <th>education_ 7th and 8th grade</th>\n",
       "      <th>education_ 9th grade</th>\n",
       "      <th>education_ Associates degree-academic program</th>\n",
       "      <th>education_ Associates degree-occup /vocational</th>\n",
       "      <th>education_ Bachelors degree(BA AB BS)</th>\n",
       "      <th>education_ Children</th>\n",
       "      <th>education_ Doctorate degree(PhD EdD)</th>\n",
       "      <th>education_ High school graduate</th>\n",
       "      <th>education_ Less than 1st grade</th>\n",
       "      <th>education_ Masters degree(MA MS MEng MEd MSW MBA)</th>\n",
       "      <th>education_ Prof school degree (MD DDS DVM LLB JD)</th>\n",
       "      <th>education_ Some college but no degree</th>\n",
       "    </tr>\n",
       "  </thead>\n",
       "  <tbody>\n",
       "    <tr>\n",
       "      <th>0</th>\n",
       "      <td>1.0</td>\n",
       "      <td>-0.108087</td>\n",
       "      <td>-0.106105</td>\n",
       "      <td>-0.046022</td>\n",
       "      <td>-0.056762</td>\n",
       "      <td>-0.077037</td>\n",
       "      <td>-0.116109</td>\n",
       "      <td>-0.113314</td>\n",
       "      <td>0.036722</td>\n",
       "      <td>0.021685</td>\n",
       "      <td>0.29181</td>\n",
       "      <td>-0.36167</td>\n",
       "      <td>0.156338</td>\n",
       "      <td>-0.120376</td>\n",
       "      <td>-0.045501</td>\n",
       "      <td>0.24452</td>\n",
       "      <td>0.193131</td>\n",
       "      <td>0.006213</td>\n",
       "    </tr>\n",
       "  </tbody>\n",
       "</table>\n",
       "</div>"
      ],
      "text/plain": [
       "   income  education_ 10th grade  education_ 11th grade  \\\n",
       "0     1.0              -0.108087              -0.106105   \n",
       "\n",
       "   education_ 12th grade no diploma  education_ 1st 2nd 3rd or 4th grade  \\\n",
       "0                         -0.046022                            -0.056762   \n",
       "\n",
       "   education_ 5th or 6th grade  education_ 7th and 8th grade  \\\n",
       "0                    -0.077037                     -0.116109   \n",
       "\n",
       "   education_ 9th grade  education_ Associates degree-academic program  \\\n",
       "0             -0.113314                                       0.036722   \n",
       "\n",
       "   education_ Associates degree-occup /vocational  \\\n",
       "0                                        0.021685   \n",
       "\n",
       "   education_ Bachelors degree(BA AB BS)  education_ Children  \\\n",
       "0                                0.29181             -0.36167   \n",
       "\n",
       "   education_ Doctorate degree(PhD EdD)  education_ High school graduate  \\\n",
       "0                              0.156338                        -0.120376   \n",
       "\n",
       "   education_ Less than 1st grade  \\\n",
       "0                       -0.045501   \n",
       "\n",
       "   education_ Masters degree(MA MS MEng MEd MSW MBA)  \\\n",
       "0                                            0.24452   \n",
       "\n",
       "   education_ Prof school degree (MD DDS DVM LLB JD)  \\\n",
       "0                                           0.193131   \n",
       "\n",
       "   education_ Some college but no degree  \n",
       "0                               0.006213  "
      ]
     },
     "execution_count": 20,
     "metadata": {},
     "output_type": "execute_result"
    },
    {
     "data": {
      "image/png": "[encoded data removed]",
      "text/plain": [
       "<matplotlib.figure.Figure at 0x7f6228461048>"
      ]
     },
     "metadata": {},
     "output_type": "display_data"
    }
   ],
   "source": [
    "analyse_categorical_column(train_dataset, 'education')"
   ]
  },
  {
   "cell_type": "markdown",
   "metadata": {},
   "source": [
    "This correlation line is very interesting, we can see the huge positive impact of studies on the income. Indeed coefficient of Bachelors, Masters and Doctorate are significantly greater than 0. It seems like the education brings some information so it is interesting to keep it."
   ]
  },
  {
   "cell_type": "markdown",
   "metadata": {},
   "source": [
    "## Wage per hour"
   ]
  },
  {
   "cell_type": "code",
   "execution_count": 21,
   "metadata": {},
   "outputs": [
    {
     "data": {
      "text/html": [
       "<div>\n",
       "<style scoped>\n",
       "    .dataframe tbody tr th:only-of-type {\n",
       "        vertical-align: middle;\n",
       "    }\n",
       "\n",
       "    .dataframe tbody tr th {\n",
       "        vertical-align: top;\n",
       "    }\n",
       "\n",
       "    .dataframe thead th {\n",
       "        text-align: right;\n",
       "    }\n",
       "</style>\n",
       "<table border=\"1\" class=\"dataframe\">\n",
       "  <thead>\n",
       "    <tr style=\"text-align: right;\">\n",
       "      <th></th>\n",
       "      <th>wage per hour</th>\n",
       "      <th>income</th>\n",
       "    </tr>\n",
       "  </thead>\n",
       "  <tbody>\n",
       "    <tr>\n",
       "      <th>wage per hour</th>\n",
       "      <td>1.000000</td>\n",
       "      <td>0.045627</td>\n",
       "    </tr>\n",
       "    <tr>\n",
       "      <th>income</th>\n",
       "      <td>0.045627</td>\n",
       "      <td>1.000000</td>\n",
       "    </tr>\n",
       "  </tbody>\n",
       "</table>\n",
       "</div>"
      ],
      "text/plain": [
       "               wage per hour    income\n",
       "wage per hour       1.000000  0.045627\n",
       "income              0.045627  1.000000"
      ]
     },
     "execution_count": 21,
     "metadata": {},
     "output_type": "execute_result"
    },
    {
     "data": {
      "image/png": "[encoded data removed]",
      "text/plain": [
       "<matplotlib.figure.Figure at 0x7f622841f630>"
      ]
     },
     "metadata": {},
     "output_type": "display_data"
    }
   ],
   "source": [
    "analyse_continuous_column(train_dataset, 'wage per hour')"
   ]
  },
  {
   "cell_type": "markdown",
   "metadata": {},
   "source": [
    "It seems like a huge number of value are 0 so this column does not bring lots of information. We can drop this column."
   ]
  },
  {
   "cell_type": "markdown",
   "metadata": {},
   "source": [
    "## Marital Status"
   ]
  },
  {
   "cell_type": "code",
   "execution_count": 22,
   "metadata": {},
   "outputs": [
    {
     "data": {
      "text/html": [
       "<div>\n",
       "<style scoped>\n",
       "    .dataframe tbody tr th:only-of-type {\n",
       "        vertical-align: middle;\n",
       "    }\n",
       "\n",
       "    .dataframe tbody tr th {\n",
       "        vertical-align: top;\n",
       "    }\n",
       "\n",
       "    .dataframe thead th {\n",
       "        text-align: right;\n",
       "    }\n",
       "</style>\n",
       "<table border=\"1\" class=\"dataframe\">\n",
       "  <thead>\n",
       "    <tr style=\"text-align: right;\">\n",
       "      <th></th>\n",
       "      <th>income</th>\n",
       "      <th>marital status_ Divorced</th>\n",
       "      <th>marital status_ Married-A F spouse present</th>\n",
       "      <th>marital status_ Married-civilian spouse present</th>\n",
       "      <th>marital status_ Married-spouse absent</th>\n",
       "      <th>marital status_ Never married</th>\n",
       "      <th>marital status_ Separated</th>\n",
       "      <th>marital status_ Widowed</th>\n",
       "    </tr>\n",
       "  </thead>\n",
       "  <tbody>\n",
       "    <tr>\n",
       "      <th>0</th>\n",
       "      <td>1.0</td>\n",
       "      <td>0.044696</td>\n",
       "      <td>-0.022447</td>\n",
       "      <td>0.378255</td>\n",
       "      <td>0.006504</td>\n",
       "      <td>-0.401814</td>\n",
       "      <td>-0.019337</td>\n",
       "      <td>-0.068262</td>\n",
       "    </tr>\n",
       "  </tbody>\n",
       "</table>\n",
       "</div>"
      ],
      "text/plain": [
       "   income  marital status_ Divorced  \\\n",
       "0     1.0                  0.044696   \n",
       "\n",
       "   marital status_ Married-A F spouse present  \\\n",
       "0                                   -0.022447   \n",
       "\n",
       "   marital status_ Married-civilian spouse present  \\\n",
       "0                                         0.378255   \n",
       "\n",
       "   marital status_ Married-spouse absent  marital status_ Never married  \\\n",
       "0                               0.006504                      -0.401814   \n",
       "\n",
       "   marital status_ Separated  marital status_ Widowed  \n",
       "0                  -0.019337                -0.068262  "
      ]
     },
     "execution_count": 22,
     "metadata": {},
     "output_type": "execute_result"
    },
    {
     "data": {
      "image/png": "[encoded data removed]",
      "text/plain": [
       "<matplotlib.figure.Figure at 0x7f62283b1c50>"
      ]
     },
     "metadata": {},
     "output_type": "display_data"
    }
   ],
   "source": [
    "analyse_categorical_column(train_dataset, 'marital status')"
   ]
  },
  {
   "cell_type": "markdown",
   "metadata": {},
   "source": [
    "It seems like the marital status has an impact on the output. We can keep this column"
   ]
  },
  {
   "cell_type": "markdown",
   "metadata": {},
   "source": [
    "## Race"
   ]
  },
  {
   "cell_type": "code",
   "execution_count": 23,
   "metadata": {},
   "outputs": [
    {
     "data": {
      "text/html": [
       "<div>\n",
       "<style scoped>\n",
       "    .dataframe tbody tr th:only-of-type {\n",
       "        vertical-align: middle;\n",
       "    }\n",
       "\n",
       "    .dataframe tbody tr th {\n",
       "        vertical-align: top;\n",
       "    }\n",
       "\n",
       "    .dataframe thead th {\n",
       "        text-align: right;\n",
       "    }\n",
       "</style>\n",
       "<table border=\"1\" class=\"dataframe\">\n",
       "  <thead>\n",
       "    <tr style=\"text-align: right;\">\n",
       "      <th></th>\n",
       "      <th>income</th>\n",
       "      <th>race_ Amer Indian Aleut or Eskimo</th>\n",
       "      <th>race_ Asian or Pacific Islander</th>\n",
       "      <th>race_ Black</th>\n",
       "      <th>race_ Other</th>\n",
       "      <th>race_ White</th>\n",
       "    </tr>\n",
       "  </thead>\n",
       "  <tbody>\n",
       "    <tr>\n",
       "      <th>0</th>\n",
       "      <td>1.0</td>\n",
       "      <td>-0.045471</td>\n",
       "      <td>0.016017</td>\n",
       "      <td>-0.120668</td>\n",
       "      <td>-0.052567</td>\n",
       "      <td>0.11814</td>\n",
       "    </tr>\n",
       "  </tbody>\n",
       "</table>\n",
       "</div>"
      ],
      "text/plain": [
       "   income  race_ Amer Indian Aleut or Eskimo  race_ Asian or Pacific Islander  \\\n",
       "0     1.0                          -0.045471                         0.016017   \n",
       "\n",
       "   race_ Black  race_ Other  race_ White  \n",
       "0    -0.120668    -0.052567      0.11814  "
      ]
     },
     "execution_count": 23,
     "metadata": {},
     "output_type": "execute_result"
    },
    {
     "data": {
      "image/png": "[encoded data removed]",
      "text/plain": [
       "<matplotlib.figure.Figure at 0x7f62282d3048>"
      ]
     },
     "metadata": {},
     "output_type": "display_data"
    }
   ],
   "source": [
    "analyse_categorical_column(train_dataset, 'race')"
   ]
  },
  {
   "cell_type": "markdown",
   "metadata": {},
   "source": [
    "The impact of this feature seems to be not so important but it is hard to determine whether this column should be drop or not."
   ]
  },
  {
   "cell_type": "markdown",
   "metadata": {},
   "source": [
    "## Tax filer status"
   ]
  },
  {
   "cell_type": "code",
   "execution_count": 24,
   "metadata": {},
   "outputs": [
    {
     "data": {
      "text/html": [
       "<div>\n",
       "<style scoped>\n",
       "    .dataframe tbody tr th:only-of-type {\n",
       "        vertical-align: middle;\n",
       "    }\n",
       "\n",
       "    .dataframe tbody tr th {\n",
       "        vertical-align: top;\n",
       "    }\n",
       "\n",
       "    .dataframe thead th {\n",
       "        text-align: right;\n",
       "    }\n",
       "</style>\n",
       "<table border=\"1\" class=\"dataframe\">\n",
       "  <thead>\n",
       "    <tr style=\"text-align: right;\">\n",
       "      <th></th>\n",
       "      <th>income</th>\n",
       "      <th>tax filer status_ Head of household</th>\n",
       "      <th>tax filer status_ Joint both 65+</th>\n",
       "      <th>tax filer status_ Joint both under 65</th>\n",
       "      <th>tax filer status_ Joint one under 65 &amp; one 65+</th>\n",
       "      <th>tax filer status_ Nonfiler</th>\n",
       "      <th>tax filer status_ Single</th>\n",
       "    </tr>\n",
       "  </thead>\n",
       "  <tbody>\n",
       "    <tr>\n",
       "      <th>0</th>\n",
       "      <td>1.0</td>\n",
       "      <td>-0.00188</td>\n",
       "      <td>-0.012803</td>\n",
       "      <td>0.402131</td>\n",
       "      <td>0.019689</td>\n",
       "      <td>-0.479919</td>\n",
       "      <td>-0.004769</td>\n",
       "    </tr>\n",
       "  </tbody>\n",
       "</table>\n",
       "</div>"
      ],
      "text/plain": [
       "   income  tax filer status_ Head of household  \\\n",
       "0     1.0                             -0.00188   \n",
       "\n",
       "   tax filer status_ Joint both 65+  tax filer status_ Joint both under 65  \\\n",
       "0                         -0.012803                               0.402131   \n",
       "\n",
       "   tax filer status_ Joint one under 65 & one 65+  tax filer status_ Nonfiler  \\\n",
       "0                                        0.019689                   -0.479919   \n",
       "\n",
       "   tax filer status_ Single  \n",
       "0                 -0.004769  "
      ]
     },
     "execution_count": 24,
     "metadata": {},
     "output_type": "execute_result"
    },
    {
     "data": {
      "image/png": "[encoded data removed]",
      "text/plain": [
       "<matplotlib.figure.Figure at 0x7f62282d75c0>"
      ]
     },
     "metadata": {},
     "output_type": "display_data"
    }
   ],
   "source": [
    "analyse_categorical_column(train_dataset, 'tax filer status')"
   ]
  },
  {
   "cell_type": "markdown",
   "metadata": {},
   "source": [
    "According to this result, we can keep this column"
   ]
  },
  {
   "cell_type": "markdown",
   "metadata": {},
   "source": [
    "## Sex"
   ]
  },
  {
   "cell_type": "code",
   "execution_count": 25,
   "metadata": {},
   "outputs": [
    {
     "data": {
      "text/html": [
       "<div>\n",
       "<style scoped>\n",
       "    .dataframe tbody tr th:only-of-type {\n",
       "        vertical-align: middle;\n",
       "    }\n",
       "\n",
       "    .dataframe tbody tr th {\n",
       "        vertical-align: top;\n",
       "    }\n",
       "\n",
       "    .dataframe thead th {\n",
       "        text-align: right;\n",
       "    }\n",
       "</style>\n",
       "<table border=\"1\" class=\"dataframe\">\n",
       "  <thead>\n",
       "    <tr style=\"text-align: right;\">\n",
       "      <th></th>\n",
       "      <th>income</th>\n",
       "      <th>sex_ Female</th>\n",
       "      <th>sex_ Male</th>\n",
       "    </tr>\n",
       "  </thead>\n",
       "  <tbody>\n",
       "    <tr>\n",
       "      <th>0</th>\n",
       "      <td>1.0</td>\n",
       "      <td>-0.337856</td>\n",
       "      <td>0.337856</td>\n",
       "    </tr>\n",
       "  </tbody>\n",
       "</table>\n",
       "</div>"
      ],
      "text/plain": [
       "   income  sex_ Female  sex_ Male\n",
       "0     1.0    -0.337856   0.337856"
      ]
     },
     "execution_count": 25,
     "metadata": {},
     "output_type": "execute_result"
    },
    {
     "data": {
      "image/png": "[encoded data removed]",
      "text/plain": [
       "<matplotlib.figure.Figure at 0x7f6228314e48>"
      ]
     },
     "metadata": {},
     "output_type": "display_data"
    }
   ],
   "source": [
    "analyse_categorical_column(train_dataset, 'sex')"
   ]
  },
  {
   "cell_type": "markdown",
   "metadata": {},
   "source": [
    "This correlation line clearly exposed differences in wages between male and female employees."
   ]
  },
  {
   "cell_type": "markdown",
   "metadata": {},
   "source": [
    "## full or part time employment stat"
   ]
  },
  {
   "cell_type": "code",
   "execution_count": 26,
   "metadata": {},
   "outputs": [
    {
     "data": {
      "text/html": [
       "<div>\n",
       "<style scoped>\n",
       "    .dataframe tbody tr th:only-of-type {\n",
       "        vertical-align: middle;\n",
       "    }\n",
       "\n",
       "    .dataframe tbody tr th {\n",
       "        vertical-align: top;\n",
       "    }\n",
       "\n",
       "    .dataframe thead th {\n",
       "        text-align: right;\n",
       "    }\n",
       "</style>\n",
       "<table border=\"1\" class=\"dataframe\">\n",
       "  <thead>\n",
       "    <tr style=\"text-align: right;\">\n",
       "      <th></th>\n",
       "      <th>income</th>\n",
       "      <th>full or part time employment stat_ Children or Armed Forces</th>\n",
       "      <th>full or part time employment stat_ Full-time schedules</th>\n",
       "      <th>full or part time employment stat_ Not in labor force</th>\n",
       "      <th>full or part time employment stat_ PT for econ reasons usually FT</th>\n",
       "      <th>full or part time employment stat_ PT for econ reasons usually PT</th>\n",
       "      <th>full or part time employment stat_ PT for non-econ reasons usually FT</th>\n",
       "      <th>full or part time employment stat_ Unemployed full-time</th>\n",
       "      <th>full or part time employment stat_ Unemployed part- time</th>\n",
       "    </tr>\n",
       "  </thead>\n",
       "  <tbody>\n",
       "    <tr>\n",
       "      <th>0</th>\n",
       "      <td>1.0</td>\n",
       "      <td>-0.157998</td>\n",
       "      <td>0.267959</td>\n",
       "      <td>-0.17527</td>\n",
       "      <td>-0.000493</td>\n",
       "      <td>0.036281</td>\n",
       "      <td>0.057491</td>\n",
       "      <td>-0.034172</td>\n",
       "      <td>-0.029377</td>\n",
       "    </tr>\n",
       "  </tbody>\n",
       "</table>\n",
       "</div>"
      ],
      "text/plain": [
       "   income  full or part time employment stat_ Children or Armed Forces  \\\n",
       "0     1.0                                          -0.157998             \n",
       "\n",
       "   full or part time employment stat_ Full-time schedules  \\\n",
       "0                                           0.267959        \n",
       "\n",
       "   full or part time employment stat_ Not in labor force  \\\n",
       "0                                           -0.17527       \n",
       "\n",
       "   full or part time employment stat_ PT for econ reasons usually FT  \\\n",
       "0                                          -0.000493                   \n",
       "\n",
       "   full or part time employment stat_ PT for econ reasons usually PT  \\\n",
       "0                                           0.036281                   \n",
       "\n",
       "   full or part time employment stat_ PT for non-econ reasons usually FT  \\\n",
       "0                                           0.057491                       \n",
       "\n",
       "   full or part time employment stat_ Unemployed full-time  \\\n",
       "0                                          -0.034172         \n",
       "\n",
       "   full or part time employment stat_ Unemployed part- time  \n",
       "0                                          -0.029377         "
      ]
     },
     "execution_count": 26,
     "metadata": {},
     "output_type": "execute_result"
    },
    {
     "data": {
      "image/png": "[encoded data removed]",
      "text/plain": [
       "<matplotlib.figure.Figure at 0x7f62282500f0>"
      ]
     },
     "metadata": {},
     "output_type": "display_data"
    }
   ],
   "source": [
    "analyse_categorical_column(train_dataset, 'full or part time employment stat')"
   ]
  },
  {
   "cell_type": "markdown",
   "metadata": {},
   "source": [
    "According to this result, it seems relevant to keep this column."
   ]
  },
  {
   "cell_type": "markdown",
   "metadata": {},
   "source": [
    "## Citizenship"
   ]
  },
  {
   "cell_type": "code",
   "execution_count": 27,
   "metadata": {},
   "outputs": [
    {
     "data": {
      "text/html": [
       "<div>\n",
       "<style scoped>\n",
       "    .dataframe tbody tr th:only-of-type {\n",
       "        vertical-align: middle;\n",
       "    }\n",
       "\n",
       "    .dataframe tbody tr th {\n",
       "        vertical-align: top;\n",
       "    }\n",
       "\n",
       "    .dataframe thead th {\n",
       "        text-align: right;\n",
       "    }\n",
       "</style>\n",
       "<table border=\"1\" class=\"dataframe\">\n",
       "  <thead>\n",
       "    <tr style=\"text-align: right;\">\n",
       "      <th></th>\n",
       "      <th>income</th>\n",
       "      <th>citizenship_ Foreign born- Not a citizen of U S</th>\n",
       "      <th>citizenship_ Foreign born- U S citizen by naturalization</th>\n",
       "      <th>citizenship_ Native- Born abroad of American Parent(s)</th>\n",
       "      <th>citizenship_ Native- Born in Puerto Rico or U S Outlying</th>\n",
       "      <th>citizenship_ Native- Born in the United States</th>\n",
       "    </tr>\n",
       "  </thead>\n",
       "  <tbody>\n",
       "    <tr>\n",
       "      <th>0</th>\n",
       "      <td>1.0</td>\n",
       "      <td>-0.059857</td>\n",
       "      <td>0.040833</td>\n",
       "      <td>0.016162</td>\n",
       "      <td>-0.031519</td>\n",
       "      <td>0.021134</td>\n",
       "    </tr>\n",
       "  </tbody>\n",
       "</table>\n",
       "</div>"
      ],
      "text/plain": [
       "   income  citizenship_ Foreign born- Not a citizen of U S   \\\n",
       "0     1.0                                         -0.059857   \n",
       "\n",
       "   citizenship_ Foreign born- U S citizen by naturalization  \\\n",
       "0                                           0.040833          \n",
       "\n",
       "   citizenship_ Native- Born abroad of American Parent(s)  \\\n",
       "0                                           0.016162        \n",
       "\n",
       "   citizenship_ Native- Born in Puerto Rico or U S Outlying  \\\n",
       "0                                          -0.031519          \n",
       "\n",
       "   citizenship_ Native- Born in the United States  \n",
       "0                                        0.021134  "
      ]
     },
     "execution_count": 27,
     "metadata": {},
     "output_type": "execute_result"
    },
    {
     "data": {
      "image/png": "[encoded data removed]",
      "text/plain": [
       "<matplotlib.figure.Figure at 0x7f62268dd080>"
      ]
     },
     "metadata": {},
     "output_type": "display_data"
    }
   ],
   "source": [
    "analyse_categorical_column(train_dataset, 'citizenship')"
   ]
  },
  {
   "cell_type": "markdown",
   "metadata": {},
   "source": [
    "This column seems not to be really important to predict the output. We can probably drop this column."
   ]
  },
  {
   "cell_type": "markdown",
   "metadata": {},
   "source": [
    "## weeks worked in year"
   ]
  },
  {
   "cell_type": "code",
   "execution_count": 28,
   "metadata": {},
   "outputs": [
    {
     "data": {
      "text/html": [
       "<div>\n",
       "<style scoped>\n",
       "    .dataframe tbody tr th:only-of-type {\n",
       "        vertical-align: middle;\n",
       "    }\n",
       "\n",
       "    .dataframe tbody tr th {\n",
       "        vertical-align: top;\n",
       "    }\n",
       "\n",
       "    .dataframe thead th {\n",
       "        text-align: right;\n",
       "    }\n",
       "</style>\n",
       "<table border=\"1\" class=\"dataframe\">\n",
       "  <thead>\n",
       "    <tr style=\"text-align: right;\">\n",
       "      <th></th>\n",
       "      <th>weeks worked in year</th>\n",
       "      <th>income</th>\n",
       "    </tr>\n",
       "  </thead>\n",
       "  <tbody>\n",
       "    <tr>\n",
       "      <th>weeks worked in year</th>\n",
       "      <td>1.000000</td>\n",
       "      <td>0.557883</td>\n",
       "    </tr>\n",
       "    <tr>\n",
       "      <th>income</th>\n",
       "      <td>0.557883</td>\n",
       "      <td>1.000000</td>\n",
       "    </tr>\n",
       "  </tbody>\n",
       "</table>\n",
       "</div>"
      ],
      "text/plain": [
       "                      weeks worked in year    income\n",
       "weeks worked in year              1.000000  0.557883\n",
       "income                            0.557883  1.000000"
      ]
     },
     "execution_count": 28,
     "metadata": {},
     "output_type": "execute_result"
    },
    {
     "data": {
      "image/png": "[encoded data removed]",
      "text/plain": [
       "<matplotlib.figure.Figure at 0x7f62268c0cf8>"
      ]
     },
     "metadata": {},
     "output_type": "display_data"
    }
   ],
   "source": [
    "analyse_continuous_column(train_dataset, 'weeks worked in year')"
   ]
  },
  {
   "cell_type": "markdown",
   "metadata": {},
   "source": [
    "# Step 3 : Modelisation"
   ]
  },
  {
   "cell_type": "code",
   "execution_count": 29,
   "metadata": {},
   "outputs": [
    {
     "data": {
      "text/plain": [
       "RandomForestClassifier(bootstrap=True, class_weight=None, criterion='gini',\n",
       "            max_depth=55, max_features='auto', max_leaf_nodes=None,\n",
       "            min_impurity_decrease=0.0, min_impurity_split=None,\n",
       "            min_samples_leaf=1, min_samples_split=2,\n",
       "            min_weight_fraction_leaf=0.0, n_estimators=100, n_jobs=None,\n",
       "            oob_score=False, random_state=0, verbose=0, warm_start=False)"
      ]
     },
     "execution_count": 29,
     "metadata": {},
     "output_type": "execute_result"
    }
   ],
   "source": [
    "X_train = train_dataset[[\"education\", \"major industry code\", \"major occupation code\", \"class of worker\", \"age\", 'num persons worked for employer', \"weeks worked in year\", 'race', \"full or part time employment stat\", \"sex\", \"tax filer status\", \"marital status\"]]\n",
    "X_train = pd.get_dummies(X_train)\n",
    "y_train = train_dataset[\"income\"]\n",
    "\n",
    "X_test = test_dataset[[\"education\", \"major industry code\", \"major occupation code\", \"class of worker\", \"age\", 'num persons worked for employer', \"weeks worked in year\", 'race',  \"full or part time employment stat\", \"sex\", \"tax filer status\", \"marital status\"]]\n",
    "X_test = pd.get_dummies(X_test)\n",
    "y_test = test_dataset[\"income\"]\n",
    "\n",
    "add_missing_dummy_columns(X_train, X_test.columns)\n",
    "add_missing_dummy_columns(X_test, X_train.columns)\n",
    "\n",
    "clf = RandomForestClassifier(n_estimators=100, max_depth=55, random_state=0)\n",
    "clf.fit(X_train, y_train)"
   ]
  },
  {
   "cell_type": "markdown",
   "metadata": {},
   "source": [
    "# Step 4 : Evaluate Performance "
   ]
  },
  {
   "cell_type": "code",
   "execution_count": 30,
   "metadata": {},
   "outputs": [
    {
     "data": {
      "text/plain": [
       "0.8449910787674666"
      ]
     },
     "execution_count": 30,
     "metadata": {},
     "output_type": "execute_result"
    }
   ],
   "source": [
    "y_predict = clf.predict(X_test)\n",
    "generate_accuracy(y_predict, y_test)"
   ]
  },
  {
   "cell_type": "markdown",
   "metadata": {},
   "source": [
    "We obtain an accuracy of 84%. Let's look the accuracy for each category."
   ]
  },
  {
   "cell_type": "code",
   "execution_count": 31,
   "metadata": {},
   "outputs": [],
   "source": [
    "liste_of_bad_prediction = evaluate_bad_performance(y_predict, y_test)\n",
    "true_value_repartition = pd.Series(y_test)\n",
    "bad_prediction_repartition = pd.Series(liste_of_bad_prediction)"
   ]
  },
  {
   "cell_type": "code",
   "execution_count": 32,
   "metadata": {},
   "outputs": [
    {
     "data": {
      "text/plain": [
       "<matplotlib.axes._subplots.AxesSubplot at 0x7f622689e1d0>"
      ]
     },
     "execution_count": 32,
     "metadata": {},
     "output_type": "execute_result"
    },
    {
     "data": {
      "image/png": "[encoded data removed]",
      "text/plain": [
       "<matplotlib.figure.Figure at 0x7f6226822a90>"
      ]
     },
     "metadata": {},
     "output_type": "display_data"
    }
   ],
   "source": [
    "true_value_repartition.value_counts().plot(kind='bar')"
   ]
  },
  {
   "cell_type": "code",
   "execution_count": 33,
   "metadata": {},
   "outputs": [
    {
     "data": {
      "text/plain": [
       "<matplotlib.axes._subplots.AxesSubplot at 0x7f62268ad780>"
      ]
     },
     "execution_count": 33,
     "metadata": {},
     "output_type": "execute_result"
    },
    {
     "data": {
      "image/png": "[encoded data removed]",
      "text/plain": [
       "<matplotlib.figure.Figure at 0x7f6226864358>"
      ]
     },
     "metadata": {},
     "output_type": "display_data"
    }
   ],
   "source": [
    "bad_prediction_repartition.value_counts().plot(kind='bar')"
   ]
  },
  {
   "cell_type": "code",
   "execution_count": 35,
   "metadata": {},
   "outputs": [
    {
     "name": "stdout",
     "output_type": "stream",
     "text": [
      "0.8449602462169787\n",
      "0.8454574846427416\n"
     ]
    }
   ],
   "source": [
    "print(1 - bad_prediction_repartition.value_counts()[0]/true_value_repartition.value_counts()[0])\n",
    "print(1 - bad_prediction_repartition.value_counts()[1]/true_value_repartition.value_counts()[1])"
   ]
  },
  {
   "cell_type": "markdown",
   "metadata": {},
   "source": [
    "This is the repartition of 0 and 1 in our bad prediction. We can notice that the repartition is coherent and that we have the same accuracy on category 0 and 1."
   ]
  },
  {
   "cell_type": "code",
   "execution_count": null,
   "metadata": {},
   "outputs": [],
   "source": []
  }
 ],
 "metadata": {
  "kernelspec": {
   "display_name": "Python 3",
   "language": "python",
   "name": "python3"
  },
  "language_info": {
   "codemirror_mode": {
    "name": "ipython",
    "version": 3
   },
   "file_extension": ".py",
   "mimetype": "text/x-python",
   "name": "python",
   "nbconvert_exporter": "python",
   "pygments_lexer": "ipython3",
   "version": "3.6.4"
  }
 },
 "nbformat": 4,
 "nbformat_minor": 2
}
